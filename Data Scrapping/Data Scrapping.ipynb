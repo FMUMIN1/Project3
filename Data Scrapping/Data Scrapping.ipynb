{
 "cells": [
  {
   "cell_type": "markdown",
   "metadata": {},
   "source": [
    "# Mars Facts Scrape"
   ]
  },
  {
   "cell_type": "code",
   "execution_count": 39,
   "metadata": {},
   "outputs": [],
   "source": [
    "from splinter import Browser\n",
    "from bs4 import BeautifulSoup as soup\n",
    "import pandas as pd\n",
    "import time\n",
    "import numpy as np\n",
    "import csv\n",
    "import json"
   ]
  },
  {
   "cell_type": "code",
   "execution_count": 2,
   "metadata": {},
   "outputs": [],
   "source": [
    "# Set up Splinter\n",
    "browser = Browser('chrome')"
   ]
  },
  {
   "cell_type": "code",
   "execution_count": 3,
   "metadata": {},
   "outputs": [],
   "source": [
    "# Determining number of years in the website\n",
    "html = '''\n",
    "<form class=\"year-select\" action=\"/vehicle-registration\" accept-charset=\"UTF-8\" method=\"get\">\n",
    "  <label for=\"year\" aria-hidden=\"false\" style=\"display: none;\">Year</label>\n",
    "  <select id=\"year\" name=\"year\" onchange=\"this.form.submit()\" class=\"form-control year\">\n",
    "    <option selected=\"selected\" value=\"2021\">2021</option>\n",
    "<option value=\"2020\">2020</option>\n",
    "<option value=\"2019\">2019</option>\n",
    "<option value=\"2018\">2018</option>\n",
    "<option value=\"2017\">2017</option>\n",
    "<option value=\"2016\">2016</option>\n",
    "  </select>\n",
    "</form>\n",
    "'''\n",
    "items = soup(html, 'lxml')\n",
    "options = items.find_all('option')\n",
    "year =[]\n",
    "for item in options:\n",
    "    year.append(int(item.text.strip()))\n"
   ]
  },
  {
   "cell_type": "code",
   "execution_count": 46,
   "metadata": {},
   "outputs": [],
   "source": [
    "counter = 1\n",
    "for item in year:\n",
    "    # Scrapping data for available years\n",
    "    url = f'https://afdc.energy.gov/vehicle-registration?year={item}'\n",
    "    browser.visit(url)\n",
    "    html = browser.html\n",
    "    html_soup = soup(html, 'html.parser')\n",
    "    table = html_soup.find('table', class_='table table-bordered table-striped vehicle-registration dataTable')\n",
    "    car_registeration = []\n",
    "    rows = table.find_all('tr')\n",
    "    # Skipping the first two empty rows\n",
    "    for row in rows[2:]:\n",
    "        row_data = row.find_all('td')\n",
    "        data_sub =[]\n",
    "        for items in row_data:\n",
    "            data_sub.append(items.text.strip())\n",
    "        car_registeration.append(data_sub)\n",
    "    car_registeration_pd = pd.DataFrame(car_registeration)\n",
    "    \n",
    "    car_registeration_pd.columns=['State', 'EV', 'PHEV', 'HEV', 'BIODIESEL', 'E85', 'CNG', 'PROPANE', 'HYDROGEN', 'METHANOL', 'GASOLINE', 'DIESEL']\n",
    "    dflist = ['EV', 'PHEV', 'HEV', 'BIODIESEL', 'E85', 'CNG', 'PROPANE', 'HYDROGEN', 'METHANOL', 'GASOLINE', 'DIESEL']\n",
    "#     car_registeration_pd = car_registeration_pd.set_index(car_registeration_pd.columns[0])\n",
    "    # Finding the total number of cars sold in every state\n",
    "    for column in dflist:\n",
    "        car_registeration_pd[f'{column}']= car_registeration_pd[f'{column}'].str.replace(',', '').astype(float)\n",
    "    car_registeration_pd['Total Sales'] = car_registeration_pd[dflist].sum(axis = 1)\n",
    "    car_registeration_pd['EV Share'] = 100 * car_registeration_pd['EV']/car_registeration_pd['Total Sales']\n",
    "    columns_to_be_removed = ['PHEV', 'HEV', 'BIODIESEL', 'E85', 'CNG', 'PROPANE', 'HYDROGEN', 'METHANOL', 'GASOLINE', 'DIESEL']\n",
    "    car_registeration_pd.drop(columns_to_be_removed, inplace = True, axis =1)\n",
    "    car_registeration_pd.rename(columns = {'EV': f'EV_{item}', 'Total Sales': f'Total Sales_{item}', 'EV Share': f'EV Share_{item}'}, inplace = True)\n",
    "#     car_registeration_pd.to_csv(f'{item}.csv')\n",
    "    if counter == 1:\n",
    "        car_registeration_pd_total = pd.DataFrame(car_registeration_pd)\n",
    "        counter = counter + 1\n",
    "    else:\n",
    "        car_registeration_pd_total = pd.merge(car_registeration_pd_total, car_registeration_pd, on='State', how='inner')\n",
    "car_registeration_pd_total = car_registeration_pd_total.set_index(car_registeration_pd.columns[0])\n",
    "car_registeration_pd_total.head()\n",
    "\n",
    "car_registeration_pd_total.to_csv('data.csv')\n",
    "    \n",
    "    \n",
    "    \n",
    "    "
   ]
  },
  {
   "cell_type": "code",
   "execution_count": 50,
   "metadata": {},
   "outputs": [],
   "source": [
    "def make_json(csv_file_path, json_file_path):\n",
    "    data = {}\n",
    "    with open(csv_file_path, encoding='utf-8') as csvf:\n",
    "        csvReader = csv.DictReader(csvf)\n",
    "        i = 1\n",
    "        for rows in csvReader:\n",
    "#             key = rows['State']\n",
    "            data [i]=rows\n",
    "            i = i+1\n",
    "    with open (json_file_path, 'w', encoding = 'utf-8') as jsonf:\n",
    "        jsonf.write(json.dumps(data, indent=4))\n",
    "        \n",
    "csv_file_path = r'data.csv'\n",
    "json_file_path = r'data.json'\n",
    "\n",
    "make_json(csv_file_path, json_file_path)"
   ]
  },
  {
   "cell_type": "code",
   "execution_count": 15,
   "metadata": {},
   "outputs": [],
   "source": [
    "# Quit the browsing session\n",
    "browser.quit()"
   ]
  },
  {
   "cell_type": "code",
   "execution_count": null,
   "metadata": {},
   "outputs": [],
   "source": []
  }
 ],
 "metadata": {
  "kernelspec": {
   "display_name": "Python 3 (ipykernel)",
   "language": "python",
   "name": "python3"
  },
  "language_info": {
   "codemirror_mode": {
    "name": "ipython",
    "version": 3
   },
   "file_extension": ".py",
   "mimetype": "text/x-python",
   "name": "python",
   "nbconvert_exporter": "python",
   "pygments_lexer": "ipython3",
   "version": "3.10.9"
  },
  "vscode": {
   "interpreter": {
    "hash": "31f2aee4e71d21fbe5cf8b01ff0e069b9275f58929596ceb00d14d90e3e16cd6"
   }
  }
 },
 "nbformat": 4,
 "nbformat_minor": 4
}
